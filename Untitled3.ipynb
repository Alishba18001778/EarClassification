{
  "nbformat": 4,
  "nbformat_minor": 0,
  "metadata": {
    "colab": {
      "name": "Untitled3.ipynb",
      "provenance": []
    },
    "kernelspec": {
      "name": "python3",
      "display_name": "Python 3"
    },
    "language_info": {
      "name": "python"
    }
  },
  "cells": [
    {
      "cell_type": "code",
      "metadata": {
        "colab": {
          "base_uri": "https://localhost:8080/"
        },
        "id": "GoJ8BY9Tb_qb",
        "outputId": "e470fe8b-8ff0-42bd-d22a-32c835e45563"
      },
      "source": [
        "## Load useful packages\n",
        "!pip install wget\n",
        "!pip install py7zr\n",
        "\n",
        "import keras\n",
        "import py7zr\n",
        "from zipfile import ZipFile\n",
        "from random import sample\n",
        "\n",
        "import PIL.Image as Image\n",
        "from scipy import io\n",
        "import matplotlib.pyplot as plt\n",
        "from  sklearn.model_selection import train_test_split\n",
        "from os import listdir\n",
        "from os import path\n",
        "import h5py\n",
        "import keras.backend as K\n",
        "import numpy as np\n",
        "import tensorflow as tf\n",
        "import wget\n",
        "from keras import regularizers\n",
        "from keras.callbacks import EarlyStopping\n",
        "from keras.callbacks import ModelCheckpoint\n",
        "from keras.layers import *\n",
        "from keras.models import Model\n",
        "from keras.models import load_model\n",
        "from keras.utils.np_utils import to_categorical\n",
        "from sklearn.metrics import accuracy_score, balanced_accuracy_score\n",
        "from sklearn.metrics import confusion_matrix"
      ],
      "execution_count": 94,
      "outputs": [
        {
          "output_type": "stream",
          "text": [
            "Requirement already satisfied: wget in /usr/local/lib/python3.7/dist-packages (3.2)\n",
            "Requirement already satisfied: py7zr in /usr/local/lib/python3.7/dist-packages (0.16.1)\n",
            "Requirement already satisfied: pycryptodomex>=3.6.6 in /usr/local/lib/python3.7/dist-packages (from py7zr) (3.10.1)\n",
            "Requirement already satisfied: bcj-cffi<0.6.0,>=0.5.1 in /usr/local/lib/python3.7/dist-packages (from py7zr) (0.5.1)\n",
            "Requirement already satisfied: texttable in /usr/local/lib/python3.7/dist-packages (from py7zr) (1.6.3)\n",
            "Requirement already satisfied: multivolumefile>=0.2.3 in /usr/local/lib/python3.7/dist-packages (from py7zr) (0.2.3)\n",
            "Requirement already satisfied: pyppmd>=0.14.0 in /usr/local/lib/python3.7/dist-packages (from py7zr) (0.15.1)\n",
            "Requirement already satisfied: importlib-metadata; python_version < \"3.8\" in /usr/local/lib/python3.7/dist-packages (from py7zr) (4.6.0)\n",
            "Requirement already satisfied: pyzstd<0.15.0,>=0.14.4 in /usr/local/lib/python3.7/dist-packages (from py7zr) (0.14.4)\n",
            "Requirement already satisfied: brotli>=1.0.9; platform_python_implementation == \"CPython\" in /usr/local/lib/python3.7/dist-packages (from py7zr) (1.0.9)\n",
            "Requirement already satisfied: cffi>=1.14.0 in /usr/local/lib/python3.7/dist-packages (from bcj-cffi<0.6.0,>=0.5.1->py7zr) (1.14.5)\n",
            "Requirement already satisfied: typing-extensions>=3.6.4; python_version < \"3.8\" in /usr/local/lib/python3.7/dist-packages (from importlib-metadata; python_version < \"3.8\"->py7zr) (3.7.4.3)\n",
            "Requirement already satisfied: zipp>=0.5 in /usr/local/lib/python3.7/dist-packages (from importlib-metadata; python_version < \"3.8\"->py7zr) (3.4.1)\n",
            "Requirement already satisfied: pycparser in /usr/local/lib/python3.7/dist-packages (from cffi>=1.14.0->bcj-cffi<0.6.0,>=0.5.1->py7zr) (2.20)\n"
          ],
          "name": "stdout"
        }
      ]
    },
    {
      "cell_type": "code",
      "metadata": {
        "colab": {
          "base_uri": "https://localhost:8080/"
        },
        "id": "4NI4AmSEfuKC",
        "outputId": "dccfea19-e664-46ca-8321-a4b201f67d77"
      },
      "source": [
        "data_path = 'https://github.com/Alishba18001778/EarClassification/blob/main/Resized_AMI_Data_Tensor.mat?raw=true'\n",
        "Data_filename = 'Resized_AMI_Data_Tensor.mat'\n",
        "\n",
        "data_path_labels = 'https://github.com/Alishba18001778/EarClassification/blob/main/Resized_AMI_Label.mat?raw=true'\n",
        "labels_filename = 'Resized_AMI_Label.mat'\n",
        "\n",
        "if(path.exists(labels_filename)):\n",
        "  !rm $labels_filename\n",
        "  print('existing file:', labels_filename, ' has been deleted')\n",
        "print('downloading latest version of file:', labels_filename)\n",
        "wget.download(data_path_labels, labels_filename)\n",
        "\n",
        "if(path.exists(Data_filename)):\n",
        "  !rm $Data_filename\n",
        "  print('existing file:', Data_filename, ' has been deleted')\n",
        "print('downloading latest version of file:', Data_filename)\n",
        "wget.download(data_path, Data_filename)\n",
        "# \n",
        "u = io.loadmat('Resized_AMI_Data_Tensor.mat')\n",
        "v = io.loadmat('Resized_AMI_Label.mat')\n",
        "sub_labels = v[\"sub_labels\"]\n",
        "sub_labels = np.squeeze(sub_labels.transpose())\n",
        "ear_images = u[\"ear_images\"]\n",
        "ear_images = np.array(ear_images)\n",
        "\n",
        "sub_labels = to_categorical(np.array(sub_labels))\n",
        "print(ear_images.shape)\n",
        "print(sub_labels.shape)"
      ],
      "execution_count": 98,
      "outputs": [
        {
          "output_type": "stream",
          "text": [
            "existing file: Resized_AMI_Label.mat  has been deleted\n",
            "downloading latest version of file: Resized_AMI_Label.mat\n",
            "existing file: Resized_AMI_Data_Tensor.mat  has been deleted\n",
            "downloading latest version of file: Resized_AMI_Data_Tensor.mat\n",
            "(700, 176, 123, 3)\n",
            "(700, 100)\n"
          ],
          "name": "stdout"
        }
      ]
    },
    {
      "cell_type": "code",
      "metadata": {
        "colab": {
          "base_uri": "https://localhost:8080/"
        },
        "id": "H6f9PJYHn1St",
        "outputId": "704f08ab-61c8-4b6c-d8e4-d91d9c0e57c5"
      },
      "source": [
        "X_train, X_test, y_train, y_test = train_test_split(ear_images, sub_labels, test_size=0.142857142857, random_state=42)\n",
        "print(X_train.shape)\n",
        "print(y_train.shape)\n",
        "print(X_test.shape)\n",
        "print(y_test.shape)"
      ],
      "execution_count": 99,
      "outputs": [
        {
          "output_type": "stream",
          "text": [
            "(600, 176, 123, 3)\n",
            "(600, 100)\n",
            "(100, 176, 123, 3)\n",
            "(100, 100)\n"
          ],
          "name": "stdout"
        }
      ]
    },
    {
      "cell_type": "code",
      "metadata": {
        "id": "oMayf8bT3F_m"
      },
      "source": [
        "X_train, X_test= X_train / 255.0, X_test / 255.0"
      ],
      "execution_count": 101,
      "outputs": []
    },
    {
      "cell_type": "code",
      "metadata": {
        "colab": {
          "base_uri": "https://localhost:8080/"
        },
        "id": "BTzprQ3t3giN",
        "outputId": "2aca5aac-1dd9-4a7e-8cb3-d3895436ff2d"
      },
      "source": [
        "#Custom Model\n",
        "\n",
        "def new_model():\n",
        "  input_img = Input(shape=(176, 123, 3))\n",
        "  num_filter = 16\n",
        "  kernel_size1 = 15\n",
        "  kernel_size2 = 13\n",
        "  kernel_size3 = 11\n",
        "  kernel_size4 = 9\n",
        "  kernel_size5 = 7\n",
        "  kernel_size6 = 5\n",
        "#   kernel_size7 = 3\n",
        "  strides = 1\n",
        "  \n",
        "  x = Conv2D(num_filter, kernel_size1, strides, activation='relu',padding = 'same', name = 'enc1')(input_img)\n",
        "\n",
        "  x = Conv2D(num_filter, kernel_size1, strides, activation='relu', padding = 'same', name = 'enc2')(x) \n",
        "# MaxPool2D\n",
        "# AveragePooling2D\n",
        "  x = MaxPool2D((2, 2))(x)\n",
        "  x = BatchNormalization()(x)\n",
        "  x = Dropout(0.3)(x)\n",
        "    \n",
        "  x = Conv2D(2*num_filter, kernel_size2, strides, activation='relu', padding = 'same', name = 'enc3')(x) \n",
        "  x = MaxPool2D((2, 2))(x)   \n",
        "  x = BatchNormalization()(x)\n",
        "    \n",
        "  x = Conv2D(4*num_filter, kernel_size3, strides, activation='relu', padding = 'same', name = 'enc4')(x) \n",
        "  x = MaxPool2D((2, 2))(x) \n",
        "  x = BatchNormalization()(x)\n",
        "\n",
        "  x = Conv2D(8*num_filter, kernel_size4, strides, activation='relu', padding = 'same', name = 'enc5')(x) \n",
        "  x = MaxPool2D((2, 2))(x) \n",
        "  x = BatchNormalization()(x)\n",
        "  x = Dropout(0.5)(x)\n",
        "\n",
        "  x = Conv2D(16*num_filter, kernel_size5, strides, activation='relu', padding = 'same', name = 'enc6')(x) \n",
        "  x = MaxPool2D((2, 2))(x) \n",
        "  x = BatchNormalization()(x)\n",
        "  \n",
        "  x = Conv2D(32*num_filter, kernel_size6, strides, activation='relu', padding = 'same', name = 'enc7')(x) \n",
        "  x = MaxPool2D((2, 2))(x) \n",
        "\n",
        "  encoded = BatchNormalization()(x)\n",
        "  y = Flatten()(encoded)\n",
        "  y = Dense(64, activation='relu')(y)\n",
        "  y = Dense(32, activation='relu')(y)\n",
        "  y = Dense(16, activation='relu')(y)\n",
        "  output = Dense(100, activation='softmax')(y)\n",
        "\n",
        "  Arch_pre = Model(input_img, output)\n",
        "  opt = keras.optimizers.Adam(learning_rate=5e-4)\n",
        "  Arch_pre.compile(loss='BinaryCrossentropy',metrics = ['accuracy'],optimizer=opt)\n",
        "  return Arch_pre\n",
        "\n",
        "Arch_pre= new_model()\n",
        "len(Arch_pre.trainable_variables)"
      ],
      "execution_count": 102,
      "outputs": [
        {
          "output_type": "execute_result",
          "data": {
            "text/plain": [
              "34"
            ]
          },
          "metadata": {
            "tags": []
          },
          "execution_count": 102
        }
      ]
    },
    {
      "cell_type": "code",
      "metadata": {
        "colab": {
          "base_uri": "https://localhost:8080/"
        },
        "id": "EBTVJNSM4MDH",
        "outputId": "7a2de730-f77e-46df-c536-cc42d7c1fe19"
      },
      "source": [
        "#Using the best model \n",
        "es = tf.keras.callbacks.EarlyStopping(monitor='val_loss', patience=20, mode='min')\n",
        "\n",
        "checkpoint = ModelCheckpoint('models\\\\modelweather-best.h5',\n",
        "                                  verbose=0, monitor='val_loss',save_best_only=True, mode='auto')\n",
        "\n",
        "Arch_pre.fit(X_train, y_train,\n",
        "                epochs=200,\n",
        "                batch_size=132,\n",
        "                shuffle=True,\n",
        "                validation_data=(X_test, y_test),\n",
        "                callbacks = [es, checkpoint]\n",
        "                )\n",
        "\n",
        "del Arch_pre  # deletes the existing model\n",
        "Arch_pre = load_model('models\\\\modelweather-best.h5')"
      ],
      "execution_count": null,
      "outputs": [
        {
          "output_type": "stream",
          "text": [
            "Epoch 1/200\n",
            "5/5 [==============================] - 436s 81s/step - loss: 0.7016 - accuracy: 0.0123 - val_loss: 0.6914 - val_accuracy: 0.0000e+00\n",
            "Epoch 2/200\n",
            "5/5 [==============================] - 428s 83s/step - loss: 0.6698 - accuracy: 0.0090 - val_loss: 0.6900 - val_accuracy: 0.0000e+00\n",
            "Epoch 3/200\n",
            "5/5 [==============================] - 411s 81s/step - loss: 0.6606 - accuracy: 0.0125 - val_loss: 0.6881 - val_accuracy: 0.0000e+00\n",
            "Epoch 4/200\n",
            "5/5 [==============================] - 409s 80s/step - loss: 0.6530 - accuracy: 0.0150 - val_loss: 0.6844 - val_accuracy: 0.0000e+00\n",
            "Epoch 5/200\n",
            "5/5 [==============================] - 413s 80s/step - loss: 0.6444 - accuracy: 0.0118 - val_loss: 0.6798 - val_accuracy: 0.0200\n",
            "Epoch 6/200\n",
            "5/5 [==============================] - 408s 80s/step - loss: 0.6352 - accuracy: 0.0119 - val_loss: 0.6724 - val_accuracy: 0.0200\n",
            "Epoch 7/200\n",
            "5/5 [==============================] - 411s 81s/step - loss: 0.6241 - accuracy: 0.0055 - val_loss: 0.6654 - val_accuracy: 0.0200\n",
            "Epoch 8/200\n",
            "5/5 [==============================] - 414s 81s/step - loss: 0.6118 - accuracy: 0.0074 - val_loss: 0.6543 - val_accuracy: 0.0200\n",
            "Epoch 9/200\n",
            "5/5 [==============================] - 414s 82s/step - loss: 0.5980 - accuracy: 0.0111 - val_loss: 0.6458 - val_accuracy: 0.0200\n",
            "Epoch 10/200\n",
            "5/5 [==============================] - 412s 81s/step - loss: 0.5829 - accuracy: 0.0105 - val_loss: 0.6352 - val_accuracy: 0.0200\n",
            "Epoch 11/200\n",
            "5/5 [==============================] - 410s 81s/step - loss: 0.5666 - accuracy: 0.0069 - val_loss: 0.6246 - val_accuracy: 0.0200\n",
            "Epoch 12/200\n",
            "5/5 [==============================] - 410s 81s/step - loss: 0.5484 - accuracy: 0.0078 - val_loss: 0.6128 - val_accuracy: 0.0200\n",
            "Epoch 13/200\n",
            "5/5 [==============================] - 413s 82s/step - loss: 0.5288 - accuracy: 0.0095 - val_loss: 0.6000 - val_accuracy: 0.0200\n",
            "Epoch 14/200\n",
            "5/5 [==============================] - 441s 86s/step - loss: 0.5074 - accuracy: 0.0086 - val_loss: 0.5873 - val_accuracy: 0.0200\n",
            "Epoch 15/200\n",
            "5/5 [==============================] - 444s 87s/step - loss: 0.4856 - accuracy: 0.0134 - val_loss: 0.5710 - val_accuracy: 0.0200\n",
            "Epoch 16/200\n",
            "5/5 [==============================] - 410s 80s/step - loss: 0.4635 - accuracy: 0.0076 - val_loss: 0.5553 - val_accuracy: 0.0200\n",
            "Epoch 17/200\n",
            "5/5 [==============================] - 420s 83s/step - loss: 0.4408 - accuracy: 0.0059 - val_loss: 0.5413 - val_accuracy: 0.0200\n",
            "Epoch 18/200\n",
            "5/5 [==============================] - 419s 83s/step - loss: 0.4171 - accuracy: 0.0096 - val_loss: 0.5256 - val_accuracy: 0.0200\n",
            "Epoch 19/200\n",
            "5/5 [==============================] - 436s 86s/step - loss: 0.3928 - accuracy: 0.0074 - val_loss: 0.5095 - val_accuracy: 0.0200\n",
            "Epoch 20/200\n",
            "5/5 [==============================] - 424s 83s/step - loss: 0.3688 - accuracy: 0.0092 - val_loss: 0.4952 - val_accuracy: 0.0200\n",
            "Epoch 21/200\n",
            "5/5 [==============================] - 411s 81s/step - loss: 0.3467 - accuracy: 0.0081 - val_loss: 0.4782 - val_accuracy: 0.0200\n",
            "Epoch 22/200\n",
            "5/5 [==============================] - 410s 81s/step - loss: 0.3235 - accuracy: 0.0082 - val_loss: 0.4624 - val_accuracy: 0.0200\n",
            "Epoch 23/200\n",
            "5/5 [==============================] - 431s 85s/step - loss: 0.3021 - accuracy: 0.0091 - val_loss: 0.4480 - val_accuracy: 0.0200\n",
            "Epoch 24/200\n",
            "5/5 [==============================] - 427s 84s/step - loss: 0.2815 - accuracy: 0.0086 - val_loss: 0.4327 - val_accuracy: 0.0200\n",
            "Epoch 25/200\n",
            "5/5 [==============================] - 437s 86s/step - loss: 0.2611 - accuracy: 0.0105 - val_loss: 0.4187 - val_accuracy: 0.0200\n",
            "Epoch 26/200\n",
            "5/5 [==============================] - 432s 85s/step - loss: 0.2432 - accuracy: 0.0120 - val_loss: 0.4013 - val_accuracy: 0.0200\n",
            "Epoch 27/200\n",
            "5/5 [==============================] - 429s 84s/step - loss: 0.2264 - accuracy: 0.0075 - val_loss: 0.3848 - val_accuracy: 0.0200\n",
            "Epoch 28/200\n",
            "5/5 [==============================] - 426s 84s/step - loss: 0.2119 - accuracy: 0.0075 - val_loss: 0.3712 - val_accuracy: 0.0200\n",
            "Epoch 29/200\n",
            "5/5 [==============================] - 442s 88s/step - loss: 0.1975 - accuracy: 0.0071 - val_loss: 0.3607 - val_accuracy: 0.0200\n",
            "Epoch 30/200\n",
            "5/5 [==============================] - 434s 86s/step - loss: 0.1847 - accuracy: 0.0121 - val_loss: 0.3489 - val_accuracy: 0.0200\n",
            "Epoch 31/200\n",
            "5/5 [==============================] - 442s 87s/step - loss: 0.1736 - accuracy: 0.0069 - val_loss: 0.3343 - val_accuracy: 0.0200\n",
            "Epoch 32/200\n",
            "5/5 [==============================] - 454s 88s/step - loss: 0.1631 - accuracy: 0.0066 - val_loss: 0.3181 - val_accuracy: 0.0200\n",
            "Epoch 33/200\n",
            "5/5 [==============================] - 431s 84s/step - loss: 0.1531 - accuracy: 0.0105 - val_loss: 0.3055 - val_accuracy: 0.0200\n",
            "Epoch 34/200\n",
            "5/5 [==============================] - 425s 84s/step - loss: 0.1441 - accuracy: 0.0109 - val_loss: 0.2805 - val_accuracy: 0.0200\n",
            "Epoch 35/200\n",
            "5/5 [==============================] - 439s 87s/step - loss: 0.1355 - accuracy: 0.0115 - val_loss: 0.2684 - val_accuracy: 0.0200\n",
            "Epoch 36/200\n",
            "1/5 [=====>........................] - ETA: 6:03 - loss: 0.1351 - accuracy: 0.0076"
          ],
          "name": "stdout"
        }
      ]
    },
    {
      "cell_type": "code",
      "metadata": {
        "id": "-SX-mhHg4iZf"
      },
      "source": [
        ""
      ],
      "execution_count": null,
      "outputs": []
    }
  ]
}